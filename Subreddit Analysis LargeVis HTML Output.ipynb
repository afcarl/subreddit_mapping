{
 "cells": [
  {
   "cell_type": "code",
   "execution_count": 1,
   "metadata": {},
   "outputs": [],
   "source": [
    "import pandas as pd\n",
    "import scipy.sparse as ss\n",
    "import numpy as np\n",
    "from sklearn.decomposition import TruncatedSVD\n",
    "from sklearn.preprocessing import normalize\n",
    "from sklearn.base import BaseEstimator, TransformerMixin\n",
    "from sklearn.utils import check_array\n",
    "from os.path import isfile\n",
    "from warnings import warn\n",
    "import subprocess\n",
    "import re"
   ]
  },
  {
   "cell_type": "code",
   "execution_count": 2,
   "metadata": {
    "collapsed": true
   },
   "outputs": [],
   "source": [
    "raw_data = pd.read_csv('subreddit-overlap')"
   ]
  },
  {
   "cell_type": "code",
   "execution_count": 3,
   "metadata": {},
   "outputs": [
    {
     "data": {
      "text/html": [
       "<div>\n",
       "<table border=\"1\" class=\"dataframe\">\n",
       "  <thead>\n",
       "    <tr style=\"text-align: right;\">\n",
       "      <th></th>\n",
       "      <th>t1_subreddit</th>\n",
       "      <th>t2_subreddit</th>\n",
       "      <th>NumOverlaps</th>\n",
       "    </tr>\n",
       "  </thead>\n",
       "  <tbody>\n",
       "    <tr>\n",
       "      <th>0</th>\n",
       "      <td>roblox</td>\n",
       "      <td>spaceengineers</td>\n",
       "      <td>20</td>\n",
       "    </tr>\n",
       "    <tr>\n",
       "      <th>1</th>\n",
       "      <td>madlads</td>\n",
       "      <td>Guitar</td>\n",
       "      <td>29</td>\n",
       "    </tr>\n",
       "    <tr>\n",
       "      <th>2</th>\n",
       "      <td>Chargers</td>\n",
       "      <td>BigBrother</td>\n",
       "      <td>29</td>\n",
       "    </tr>\n",
       "    <tr>\n",
       "      <th>3</th>\n",
       "      <td>NetflixBestOf</td>\n",
       "      <td>celebnsfw</td>\n",
       "      <td>35</td>\n",
       "    </tr>\n",
       "    <tr>\n",
       "      <th>4</th>\n",
       "      <td>JoeRogan</td>\n",
       "      <td>Glitch_in_the_Matrix</td>\n",
       "      <td>28</td>\n",
       "    </tr>\n",
       "  </tbody>\n",
       "</table>\n",
       "</div>"
      ],
      "text/plain": [
       "    t1_subreddit          t2_subreddit  NumOverlaps\n",
       "0         roblox        spaceengineers           20\n",
       "1        madlads                Guitar           29\n",
       "2       Chargers            BigBrother           29\n",
       "3  NetflixBestOf             celebnsfw           35\n",
       "4       JoeRogan  Glitch_in_the_Matrix           28"
      ]
     },
     "execution_count": 3,
     "metadata": {},
     "output_type": "execute_result"
    }
   ],
   "source": [
    "raw_data.head()"
   ]
  },
  {
   "cell_type": "code",
   "execution_count": 4,
   "metadata": {},
   "outputs": [],
   "source": [
    "subreddit_popularity = raw_data.groupby('t2_subreddit')['NumOverlaps'].sum()\n",
    "subreddits = np.array(subreddit_popularity.sort_values(ascending=False).index)"
   ]
  },
  {
   "cell_type": "code",
   "execution_count": 5,
   "metadata": {},
   "outputs": [],
   "source": [
    "index_map = dict(np.vstack([subreddits, np.arange(subreddits.shape[0])]).T)"
   ]
  },
  {
   "cell_type": "code",
   "execution_count": 6,
   "metadata": {},
   "outputs": [],
   "source": [
    "count_matrix = ss.coo_matrix((raw_data.NumOverlaps, \n",
    "                              (raw_data.t2_subreddit.map(index_map),\n",
    "                               raw_data.t1_subreddit.map(index_map))),\n",
    "                             shape=(subreddits.shape[0], subreddits.shape[0]),\n",
    "                             dtype=np.float64)"
   ]
  },
  {
   "cell_type": "code",
   "execution_count": 7,
   "metadata": {},
   "outputs": [],
   "source": [
    "conditional_prob_matrix = count_matrix.tocsr()\n",
    "conditional_prob_matrix = normalize(conditional_prob_matrix, norm='l1', copy=False)"
   ]
  },
  {
   "cell_type": "code",
   "execution_count": 8,
   "metadata": {},
   "outputs": [],
   "source": [
    "reduced_vectors = TruncatedSVD(n_components=500,\n",
    "                               random_state=1).fit_transform(conditional_prob_matrix)\n",
    "norm_reduced_vectors = normalize(reduced_vectors, norm='l2', copy=False)"
   ]
  },
  {
   "cell_type": "code",
   "execution_count": 9,
   "metadata": {},
   "outputs": [],
   "source": [
    "class LargeVis (BaseEstimator):\n",
    "    \n",
    "    def __init__(self, n_components=2, perplexity=50.0, gamma=5,\n",
    "                 layout_samples=None, n_neighbors=None, negative_samples=5,\n",
    "                 alpha=1.0, n_cores=4, knn_prop=3, trees=50):\n",
    "        self.n_components = n_components\n",
    "        self.perplexity = perplexity\n",
    "        self.layout_samples = layout_samples\n",
    "        self.alpha = alpha\n",
    "        self.n_cores = n_cores\n",
    "        self.knn_prop = knn_prop\n",
    "        self.negative_samples = negative_samples\n",
    "        self.n_neighbors = n_neighbors\n",
    "        self.gamma = gamma\n",
    "        self.trees = trees\n",
    "        if self.n_neighbors is None:\n",
    "            self.n_neighbors = int(self.perplexity * 3)\n",
    "\n",
    "\n",
    "    def fit_transform(self, X, y=None):\n",
    "        \n",
    "        if self.layout_samples is None:\n",
    "            layout_samples = X.shape[0] / 100.0\n",
    "        else:\n",
    "            layout_samples = self.layout_samples\n",
    "            \n",
    "        X = check_array(X, dtype=np.float64)\n",
    "        np.savetxt('/tmp/largevis_input', \n",
    "                   X, header='{} {}'.format(*X.shape), \n",
    "                   comments='')\n",
    "        subprocess.check_call(['/Users/leland/Source/LargeVis/Linux/LargeVis',\n",
    "                               '-input', '/tmp/largevis_input',\n",
    "                               '-output', '/tmp/largevis_output',\n",
    "                               '-outdim', str(self.n_components),\n",
    "                               '-perp', str(self.perplexity),\n",
    "                               '-samples', str(layout_samples),\n",
    "                               '-gamma', str(self.gamma),\n",
    "                               '-prop', str(self.knn_prop),\n",
    "                               '-trees', str(self.trees),\n",
    "                               '-neigh', str(self.n_neighbors),\n",
    "                               '-alpha', str(self.alpha),\n",
    "                               '-neg', str(self.negative_samples),\n",
    "                               '-threads', str(self.n_cores)])\n",
    "        self.embedding_ = np.loadtxt('/tmp/largevis_output', skiprows=1)\n",
    "        return self.embedding_\n",
    "    \n",
    "    def fit(self, X, y=None):\n",
    "        self.fit_transform(X)\n",
    "        return self"
   ]
  },
  {
   "cell_type": "code",
   "execution_count": 10,
   "metadata": {},
   "outputs": [],
   "source": [
    "if isfile('largevis_subreddit_map.npy'):\n",
    "    subreddit_map = np.load('largevis_subreddit_map.npy')\n",
    "else:\n",
    "    subreddit_map = LargeVis().fit_transform(reduced_vectors[:10000])\n",
    "    np.save('largevis_subreddit_map.npy', subreddit_map)"
   ]
  },
  {
   "cell_type": "code",
   "execution_count": 11,
   "metadata": {},
   "outputs": [
    {
     "data": {
      "text/html": [
       "<div>\n",
       "<table border=\"1\" class=\"dataframe\">\n",
       "  <thead>\n",
       "    <tr style=\"text-align: right;\">\n",
       "      <th></th>\n",
       "      <th>x</th>\n",
       "      <th>y</th>\n",
       "      <th>subreddit</th>\n",
       "    </tr>\n",
       "  </thead>\n",
       "  <tbody>\n",
       "    <tr>\n",
       "      <th>0</th>\n",
       "      <td>-2.469311</td>\n",
       "      <td>2.295230</td>\n",
       "      <td>AskReddit</td>\n",
       "    </tr>\n",
       "    <tr>\n",
       "      <th>1</th>\n",
       "      <td>-2.801981</td>\n",
       "      <td>2.136050</td>\n",
       "      <td>pics</td>\n",
       "    </tr>\n",
       "    <tr>\n",
       "      <th>2</th>\n",
       "      <td>-2.734101</td>\n",
       "      <td>2.063090</td>\n",
       "      <td>funny</td>\n",
       "    </tr>\n",
       "    <tr>\n",
       "      <th>3</th>\n",
       "      <td>-3.564055</td>\n",
       "      <td>2.174888</td>\n",
       "      <td>todayilearned</td>\n",
       "    </tr>\n",
       "    <tr>\n",
       "      <th>4</th>\n",
       "      <td>-5.986312</td>\n",
       "      <td>2.277558</td>\n",
       "      <td>worldnews</td>\n",
       "    </tr>\n",
       "  </tbody>\n",
       "</table>\n",
       "</div>"
      ],
      "text/plain": [
       "          x         y      subreddit\n",
       "0 -2.469311  2.295230      AskReddit\n",
       "1 -2.801981  2.136050           pics\n",
       "2 -2.734101  2.063090          funny\n",
       "3 -3.564055  2.174888  todayilearned\n",
       "4 -5.986312  2.277558      worldnews"
      ]
     },
     "execution_count": 11,
     "metadata": {},
     "output_type": "execute_result"
    }
   ],
   "source": [
    "subreddit_map_df = pd.DataFrame(subreddit_map[:10000], columns=('x', 'y'))\n",
    "subreddit_map_df['subreddit'] = subreddits[:10000]\n",
    "subreddit_map_df.head()"
   ]
  },
  {
   "cell_type": "code",
   "execution_count": 12,
   "metadata": {
    "collapsed": true
   },
   "outputs": [],
   "source": [
    "import hdbscan"
   ]
  },
  {
   "cell_type": "code",
   "execution_count": 13,
   "metadata": {
    "collapsed": true
   },
   "outputs": [],
   "source": [
    "clusterer = hdbscan.HDBSCAN(min_samples=5, \n",
    "                            min_cluster_size=20, \n",
    "                            cluster_selection_method='eom').fit(subreddit_map[:10000])\n",
    "cluster_ids = clusterer.labels_"
   ]
  },
  {
   "cell_type": "code",
   "execution_count": 14,
   "metadata": {},
   "outputs": [],
   "source": [
    "subreddit_map_df['cluster'] = cluster_ids"
   ]
  },
  {
   "cell_type": "code",
   "execution_count": 59,
   "metadata": {},
   "outputs": [],
   "source": [
    "from jinja2 import Environment, FileSystemLoader, select_autoescape\n",
    "env = Environment(\n",
    "    loader=FileSystemLoader('.')\n",
    ")\n",
    "template = env.get_template('bokeh_html_template.html')"
   ]
  },
  {
   "cell_type": "code",
   "execution_count": 60,
   "metadata": {},
   "outputs": [],
   "source": [
    "from bokeh.plotting import figure\n",
    "from bokeh.models import HoverTool, ColumnDataSource, CustomJS, value\n",
    "from bokeh.models.widgets import TextInput, AutocompleteInput\n",
    "from bokeh.layouts import layout, Spacer\n",
    "from bokeh.models.mappers import LinearColorMapper\n",
    "from bokeh.palettes import plasma\n",
    "from collections import OrderedDict\n",
    "from bokeh.embed import file_html\n",
    "from bokeh.resources import CDN"
   ]
  },
  {
   "cell_type": "code",
   "execution_count": 61,
   "metadata": {
    "scrolled": false
   },
   "outputs": [],
   "source": [
    "palette = ['#777777'] + plasma(cluster_ids.max())\n",
    "colormap = LinearColorMapper(palette=palette, low=-2, high=cluster_ids.max())\n",
    "color_dict = {'field': 'cluster', 'transform': colormap}\n",
    "subreddit_map_df['fill_alpha'] = np.exp((subreddit_map.min() - \n",
    "                                         subreddit_map.max()) / 5.0) + 0.05\n",
    "\n",
    "plot_data = ColumnDataSource(subreddit_map_df)\n",
    "\n",
    "tsne_plot = figure(title='A Map of Subreddits',\n",
    "                   plot_width = 700,\n",
    "                   plot_height = 700,\n",
    "                   tools= ('pan, wheel_zoom, box_zoom,'\n",
    "                           'box_select, resize, reset'),\n",
    "                   active_scroll=u'wheel_zoom')\n",
    "\n",
    "tsne_plot.add_tools( HoverTool(tooltips = OrderedDict([('subreddit', '@subreddit'),\n",
    "                                                       ('cluster', '@cluster')])))\n",
    "\n",
    "# draw the subreddits as circles on the plot\n",
    "tsne_plot.circle(u'x', u'y', source=plot_data,\n",
    "                 fill_color=color_dict, line_color=None, fill_alpha='fill_alpha',\n",
    "                 size=10, hover_line_color=u'black')\n",
    "\n",
    "# configure visual elements of the plot\n",
    "tsne_plot.title.text_font_size = value('18pt')\n",
    "tsne_plot.title.align = 'center'\n",
    "tsne_plot.xaxis.visible = False\n",
    "tsne_plot.yaxis.visible = False\n",
    "tsne_plot.grid.grid_line_color = None\n",
    "tsne_plot.outline_line_color = '#222222'\n",
    "\n",
    "subreddit_input_jscode = \"\"\"\n",
    "    var data = source.data;\n",
    "    var start = plot_range.start;\n",
    "    var end = plot_range.end;   \n",
    "    subreddit = cb_obj.value;\n",
    "    subrs = data['subreddit'];\n",
    "    alpha = data['fill_alpha'];\n",
    "    \n",
    "    if (subreddit === '') {\n",
    "        for (i = 0; i < alpha.length; i++) {\n",
    "             alpha[i] = Math.exp((start - end) / 5.0) + 0.05;\n",
    "        }  \n",
    "    } else {\n",
    "        for (i = 0; i < subrs.length; i++) {\n",
    "            if (subrs[i] === subreddit) {\n",
    "                alpha[i] = 1.0;\n",
    "            } else {\n",
    "                alpha[i] = 0.01;\n",
    "            }\n",
    "        }\n",
    "    }\n",
    "    source.trigger('change');\n",
    "\"\"\"\n",
    "\n",
    "subreddit_inputbox = AutocompleteInput(completions=subreddit_map_df.subreddit.tolist(), \n",
    "                             title='Locate a subreddit:')\n",
    "subreddit_inputbox.callback = CustomJS(args=dict(source=plot_data,\n",
    "                                       plot_range=tsne_plot.x_range\n",
    "                                      ), code=subreddit_input_jscode)\n",
    "\n",
    "cluster_input_jscode = \"\"\"\n",
    "    data = source.get('data');\n",
    "    var start = plot_range.start;\n",
    "    var end = plot_range.end;   \n",
    "    cluster = cb_obj.value;\n",
    "    clusters = data['cluster'];\n",
    "    alpha = data['fill_alpha'];\n",
    "    \n",
    "    if (cluster === '') {\n",
    "        for (i = 0; i < alpha.length; i++) {\n",
    "             alpha[i] = Math.exp((start - end) / 5.0) + 0.05;\n",
    "        }    \n",
    "    } else {\n",
    "        for (i = 0; i < alpha.length; i++) {\n",
    "            if (clusters[i] === Number(cluster)) {\n",
    "                alpha[i] = 1.0;\n",
    "            } else {\n",
    "                alpha[i] = 0.01;\n",
    "            }\n",
    "        }\n",
    "    }\n",
    "    source.trigger('change');\n",
    "\"\"\"\n",
    "\n",
    "cluster_inputbox = TextInput(title='Locate a cluster (by number)', disabled=True)\n",
    "cluster_inputbox.callback = CustomJS(args=dict(source=plot_data,\n",
    "                                       plot_range=tsne_plot.x_range\n",
    "                                      ), code=cluster_input_jscode)\n",
    "\n",
    "full_layout = layout([[tsne_plot], \n",
    "                      [subreddit_inputbox, cluster_inputbox],\n",
    "                      [Spacer()],\n",
    "                     ], \n",
    "                     sizing_mode='scale_width')\n",
    "\n",
    "jscode=\"\"\"\n",
    "    var data = source.data;\n",
    "    var start = cb_obj.start;\n",
    "    var end = cb_obj.end;\n",
    "    alpha = data['fill_alpha'];\n",
    "    val1 = input1.value;\n",
    "    val2 = input2.value;\n",
    "    if ((val1 === '') && (val2 === '')) {\n",
    "        for (i = 0; i < alpha.length; i++) {\n",
    "             alpha[i] = Math.exp((start - end) / 5.0) + 0.05;\n",
    "        }\n",
    "        source.trigger('change');\n",
    "    }\n",
    "\"\"\"\n",
    "\n",
    "tsne_plot.x_range.callback = CustomJS(args=dict(source=plot_data, \n",
    "                                                input1=subreddit_inputbox, \n",
    "                                                input2=cluster_inputbox), code=jscode)\n",
    "tsne_plot.y_range.callback = CustomJS(args=dict(source=plot_data, \n",
    "                                                input1=subreddit_inputbox, \n",
    "                                                input2=cluster_inputbox), code=jscode)\n",
    "\n",
    "html = file_html(full_layout, CDN, \"A Map of Subreddits\", template=template)"
   ]
  },
  {
   "cell_type": "code",
   "execution_count": 62,
   "metadata": {
    "collapsed": true
   },
   "outputs": [],
   "source": [
    "with open('subreddit_map.html', 'w') as outfile:\n",
    "    outfile.write(html)"
   ]
  },
  {
   "cell_type": "code",
   "execution_count": null,
   "metadata": {
    "collapsed": true
   },
   "outputs": [],
   "source": []
  }
 ],
 "metadata": {
  "kernelspec": {
   "display_name": "Python [hdbscan_dev3]",
   "language": "python",
   "name": "Python [hdbscan_dev3]"
  },
  "language_info": {
   "codemirror_mode": {
    "name": "ipython",
    "version": 3
   },
   "file_extension": ".py",
   "mimetype": "text/x-python",
   "name": "python",
   "nbconvert_exporter": "python",
   "pygments_lexer": "ipython3",
   "version": "3.6.1"
  }
 },
 "nbformat": 4,
 "nbformat_minor": 2
}
